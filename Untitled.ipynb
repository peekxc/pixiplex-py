{
 "cells": [
  {
   "cell_type": "code",
   "execution_count": 3,
   "id": "065888b8-93d0-4c41-b3e0-2be435a85380",
   "metadata": {},
   "outputs": [
    {
     "data": {
      "application/vnd.jupyter.widget-view+json": {
       "model_id": "91c793c4481c4e6cbd661d7d11240bbf",
       "version_major": 2,
       "version_minor": 1
      },
      "text/plain": [
       "CounterWidget(vlist=[0, 0, 0, 0])"
      ]
     },
     "execution_count": 3,
     "metadata": {},
     "output_type": "execute_result"
    }
   ],
   "source": [
    "import anywidget\n",
    "import traitlets\n",
    "\n",
    "\n",
    "class CounterWidget(anywidget.AnyWidget):\n",
    "\t_esm = \"\"\"\n",
    "    function render({ model, el }) {\n",
    "      let button = document.createElement(\"button\");\n",
    "      button.innerHTML = `count is ${model.get(\"value\")}`;\n",
    "      model.on(\"change:value\", () => {\n",
    "\t\t\t\tconsole.log(\"Value change callback called\");\n",
    "\t\t\t\tbutton.innerHTML = `count is ${model.get(\"value\")}`;\n",
    "      });\n",
    "\t\t\tmodel.on(\"change:vlist\", () => {\n",
    "\t\t\t\tconsole.log(\"Value list change callback called\");\n",
    "\t\t\t\tconst values = model.get(\"vlist\");\n",
    "      });\n",
    "      el.classList.add(\"counter-widget\");\n",
    "      el.appendChild(button);\n",
    "    }\n",
    "    export default { render };\n",
    "    \"\"\"\n",
    "\t_css = \"\"\"\n",
    "    .counter-widget button { color: white; font-size: 1.75rem; background-color: #ea580c; padding: 0.5rem 1rem; border: none; border-radius: 0.25rem; }\n",
    "    .counter-widget button:hover { background-color: #9a3412; }\n",
    "    \"\"\"\n",
    "\tvalue = traitlets.Int(default_value=0).tag(sync=True)\n",
    "\tvlist = traitlets.List(default_value=[0, 0, 0, 0]).tag(sync=True)\n",
    "\n",
    "\n",
    "c = CounterWidget()\n",
    "c"
   ]
  },
  {
   "cell_type": "code",
   "execution_count": 4,
   "id": "53e73320-7823-4d58-87c8-1de14bcd3b40",
   "metadata": {},
   "outputs": [],
   "source": [
    "c.value += 1"
   ]
  },
  {
   "cell_type": "code",
   "execution_count": 5,
   "id": "751d9b3a-26e1-4a76-812e-04b11c1a5941",
   "metadata": {},
   "outputs": [],
   "source": [
    "c.vlist = [0, 1, 2, 3]"
   ]
  },
  {
   "cell_type": "code",
   "execution_count": null,
   "id": "afdd12f5-f5c3-48df-b50b-c84d2916e06f",
   "metadata": {},
   "outputs": [],
   "source": []
  }
 ],
 "metadata": {
  "kernelspec": {
   "display_name": "Python 3 (ipykernel)",
   "language": "python",
   "name": "python3"
  },
  "language_info": {
   "codemirror_mode": {
    "name": "ipython",
    "version": 3
   },
   "file_extension": ".py",
   "mimetype": "text/x-python",
   "name": "python",
   "nbconvert_exporter": "python",
   "pygments_lexer": "ipython3",
   "version": "3.10.0"
  }
 },
 "nbformat": 4,
 "nbformat_minor": 5
}
