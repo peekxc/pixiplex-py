{
 "cells": [
  {
   "cell_type": "code",
   "execution_count": 1,
   "metadata": {},
   "outputs": [],
   "source": [
    "import anywidget\n",
    "import traitlets\n",
    "from traitlets import HasTraits, observe\n",
    "\n",
    "class SyncWidget(anywidget.AnyWidget, HasTraits):\n",
    "    _esm = \"\"\"\n",
    "    function render({ model, el }) {\n",
    "\t\t\tmodel.on(\"msg:custom\", (msg) => {\n",
    "                console.log(msg);\n",
    "    \t\t\tif (msg.type == \"msg:sync_values\"){\n",
    "    \t\t\t\tconsole.log('syncing values');\n",
    "    \t\t\t\tconst values = model.get('values');\n",
    "    \t\t\t\tmodel.set('values', values.map(val => val + 5));\n",
    "    \t\t\t\tmodel.save_changes();\n",
    "                    setTimeout(() => { model.send({ type: \"sync_complete\" }); }, 100);\n",
    "    \t\t\t}\n",
    "                console.log(\"synchronizing\");\n",
    "            });\n",
    "    };\n",
    "    export default { render };\n",
    "    \"\"\"\n",
    "    values = traitlets.List([]).tag(sync=True)\n",
    "\n",
    "    @observe(\"values\")\n",
    "    def _observe_values(self, change):\n",
    "        print(f\"Old: {change['old']}\")\n",
    "        print(f\"New: {change['new']}\")\n",
    "    \n",
    "    def on_msg(self, msg):\n",
    "        if msg[\"type\"] == \"sync_complete\":\n",
    "            print(f\"Received sync_complete: {msg['values']}\")"
   ]
  },
  {
   "cell_type": "code",
   "execution_count": 2,
   "metadata": {},
   "outputs": [
    {
     "data": {
      "application/vnd.jupyter.widget-view+json": {
       "model_id": "4d15ec7419ac4342a097fc9449564ee9",
       "version_major": 2,
       "version_minor": 1
      },
      "text/plain": [
       "SyncWidget()"
      ]
     },
     "execution_count": 2,
     "metadata": {},
     "output_type": "execute_result"
    }
   ],
   "source": [
    "widget = SyncWidget()\n",
    "widget"
   ]
  },
  {
   "cell_type": "code",
   "execution_count": 3,
   "metadata": {},
   "outputs": [
    {
     "name": "stdout",
     "output_type": "stream",
     "text": [
      "Old: []\n",
      "New: [1, 2, 3, 4, 5]\n"
     ]
    }
   ],
   "source": [
    "widget.values = [1,2,3,4,5]"
   ]
  },
  {
   "cell_type": "code",
   "execution_count": 4,
   "metadata": {},
   "outputs": [
    {
     "data": {
      "text/plain": [
       "[1, 2, 3, 4, 5]"
      ]
     },
     "execution_count": 4,
     "metadata": {},
     "output_type": "execute_result"
    }
   ],
   "source": [
    "widget.values"
   ]
  },
  {
   "cell_type": "code",
   "execution_count": 5,
   "metadata": {},
   "outputs": [
    {
     "name": "stdout",
     "output_type": "stream",
     "text": [
      "[1, 2, 3, 4, 5]\n"
     ]
    }
   ],
   "source": [
    "widget.send({ \"type\" : \"msg:sync_values\"})\n",
    "print(widget.values)"
   ]
  },
  {
   "cell_type": "code",
   "execution_count": 6,
   "metadata": {},
   "outputs": [
    {
     "data": {
      "text/plain": [
       "[1, 2, 3, 4, 5]"
      ]
     },
     "execution_count": 6,
     "metadata": {},
     "output_type": "execute_result"
    }
   ],
   "source": [
    "widget.values"
   ]
  },
  {
   "cell_type": "code",
   "execution_count": 7,
   "metadata": {},
   "outputs": [],
   "source": [
    "# dir(widget)"
   ]
  },
  {
   "cell_type": "code",
   "execution_count": 8,
   "metadata": {},
   "outputs": [],
   "source": [
    "# widget.get_state()['values']\n",
    "# widget.traits()['values'].get('values')\n",
    "widget.values = widget.values"
   ]
  },
  {
   "cell_type": "code",
   "execution_count": 9,
   "metadata": {},
   "outputs": [
    {
     "data": {
      "text/plain": [
       "[1, 2, 3, 4, 5]"
      ]
     },
     "execution_count": 9,
     "metadata": {},
     "output_type": "execute_result"
    }
   ],
   "source": [
    "widget.values"
   ]
  },
  {
   "cell_type": "code",
   "execution_count": 10,
   "metadata": {},
   "outputs": [
    {
     "name": "stdout",
     "output_type": "stream",
     "text": [
      "[1, 2, 3, 4, 5]\n"
     ]
    },
    {
     "name": "stderr",
     "output_type": "stream",
     "text": [
      "/var/folders/0l/b3dbb2_d2bb4y3wbbfk0wt_80000gn/T/ipykernel_20798/1794953676.py:2: RuntimeWarning: coroutine 'Kernel.do_one_iteration' was never awaited\n",
      "  get_ipython().kernel.do_one_iteration()\n",
      "RuntimeWarning: Enable tracemalloc to get the object allocation traceback\n"
     ]
    }
   ],
   "source": [
    "from IPython import get_ipython\n",
    "get_ipython().kernel.do_one_iteration()\n",
    "print(widget.values)"
   ]
  },
  {
   "cell_type": "code",
   "execution_count": 11,
   "metadata": {},
   "outputs": [
    {
     "data": {
      "text/plain": [
       "[1, 2, 3, 4, 5]"
      ]
     },
     "execution_count": 11,
     "metadata": {},
     "output_type": "execute_result"
    }
   ],
   "source": [
    "widget.values"
   ]
  }
 ],
 "metadata": {
  "kernelspec": {
   "display_name": "Python 3 (ipykernel)",
   "language": "python",
   "name": "python3"
  },
  "language_info": {
   "codemirror_mode": {
    "name": "ipython",
    "version": 3
   },
   "file_extension": ".py",
   "mimetype": "text/x-python",
   "name": "python",
   "nbconvert_exporter": "python",
   "pygments_lexer": "ipython3",
   "version": "3.10.0"
  }
 },
 "nbformat": 4,
 "nbformat_minor": 4
}
