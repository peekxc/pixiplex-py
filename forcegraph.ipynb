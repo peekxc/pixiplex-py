{
 "cells": [
  {
   "cell_type": "code",
   "execution_count": 1,
   "id": "f55a35b5-8545-4f21-b0ea-b9bc50435b92",
   "metadata": {
    "scrolled": true
   },
   "outputs": [
    {
     "name": "stdout",
     "output_type": "stream",
     "text": [
      "env: ANYWIDGET_HMR=1\n"
     ]
    }
   ],
   "source": [
    "%load_ext autoreload\n",
    "%autoreload 2\n",
    "%env ANYWIDGET_HMR=1"
   ]
  },
  {
   "cell_type": "code",
   "execution_count": 31,
   "id": "3bbadfc8",
   "metadata": {},
   "outputs": [
    {
     "data": {
      "application/vnd.jupyter.widget-view+json": {
       "model_id": "800de6cdc1924eefbf6eb38df7a94aed",
       "version_major": 2,
       "version_minor": 1
      },
      "text/plain": [
       "Widget(height=450, node_ids=[0, 1, 2, 3, 4, 5, 6, 7, 8, 9, 10, 11, 12, 13, 14, 15, 16, 17, 18, 19, 20, 21, 22,…"
      ]
     },
     "execution_count": 31,
     "metadata": {},
     "output_type": "execute_result"
    }
   ],
   "source": [
    "import numpy as np\n",
    "from numpy.typing import ArrayLike\n",
    "import json\n",
    "from traitlets import observe\n",
    "from pathlib import Path\n",
    "data = json.loads(Path(\"/Users/mpiekenbrock/Downloads/miserables.json\").read_text())\n",
    "\n",
    "node_ids = np.unique([n[\"id\"] for n in data[\"nodes\"]])\n",
    "src_ids = np.array([e[\"source\"] for e in data[\"links\"]])\n",
    "tgt_ids = np.array([e[\"target\"] for e in data[\"links\"]])\n",
    "\n",
    "src_ids = np.searchsorted(node_ids, src_ids)\n",
    "tgt_ids = np.searchsorted(node_ids, tgt_ids)\n",
    "node_ids = np.searchsorted(node_ids, node_ids)\n",
    "\n",
    "edgelist = np.c_[src_ids, tgt_ids]\n",
    "\n",
    "import traitlets\n",
    "import anywidget\n",
    "class Widget(anywidget.AnyWidget):\n",
    "    _esm = \"pixiplex/static/widget.js\"\n",
    "    _css = \"pixiplex/static/widget.css\"\n",
    "\n",
    "    scale = traitlets.Float(2.0).tag(sync=True)\n",
    "    width = traitlets.Int(250).tag(sync=True)\n",
    "    height = traitlets.Int(250).tag(sync=True)\n",
    "    \n",
    "    node_ids = traitlets.List(trait=traitlets.CInt).tag(sync=True)\n",
    "    src_ids = traitlets.List(trait=traitlets.CInt).tag(sync=True)\n",
    "    tgt_ids = traitlets.List(trait=traitlets.CInt).tag(sync=True)\n",
    "\n",
    "    _x = traitlets.List(trait=traitlets.Float).tag(sync=True)\n",
    "    _y = traitlets.List(trait=traitlets.Float).tag(sync=True)\n",
    "\n",
    "    node_color = traitlets.List(trait=traitlets.Unicode).tag(sync=True)\n",
    "    \n",
    "    def __init__(self, node_ids: ArrayLike, edgelist: ArrayLike, width: int = 250, height: int = 250) -> None:\n",
    "        super().__init__()\n",
    "        self.width = width \n",
    "        self.height = height\n",
    "        self.node_ids = list(node_ids)\n",
    "        self.src_ids = list(edgelist[:,0])\n",
    "        self.tgt_ids = list(edgelist[:,1])\n",
    "\n",
    "    @property\n",
    "    def x(self):\n",
    "        self.send({ \"type\" : \"msg:sync_node_coordinates\"})\n",
    "        return self._x\n",
    "\n",
    "    @x.setter\n",
    "    def x(self, value: ArrayLike):\n",
    "        value = np.atleast_1d(value).astype(np.float32).ravel();\n",
    "        assert len(value) == len(self.node_ids)\n",
    "        self._x = value\n",
    "\n",
    "    def center(self, fit_zoom: bool = False, x: float = None, y: float = None):\n",
    "        msg = { \"type\" : \"msg:center\", \"fit\": fit_zoom }\n",
    "        msg['x'] = x if x is not None else (self.width * self.scale / 2)\n",
    "        msg['y'] = y if x is not None else (self.height * self.scale / 2)\n",
    "        self.send(msg)\n",
    "\n",
    "widget = Widget(node_ids, edgelist, width=750, height=450)\n",
    "widget"
   ]
  },
  {
   "cell_type": "code",
   "execution_count": 32,
   "id": "560c051f-c038-4476-87b6-c5b08752dbe4",
   "metadata": {},
   "outputs": [],
   "source": [
    "widget.center(True)"
   ]
  },
  {
   "cell_type": "code",
   "execution_count": 24,
   "id": "fa8cae95-1be5-481e-bfa1-de8660191483",
   "metadata": {
    "scrolled": true
   },
   "outputs": [],
   "source": [
    "# widget.node_color = [\"0xff0000\"]*len(widget.node_ids)\n",
    "widget.node_color = [\"0xff0000\" if i % 2 == 0 else \"0x00ff00\" for i in widget.node_ids]"
   ]
  },
  {
   "cell_type": "code",
   "execution_count": 26,
   "id": "f5881026-a1c2-4f71-956b-7077fd7dd631",
   "metadata": {},
   "outputs": [
    {
     "data": {
      "text/plain": [
       "[401.25419103962145,\n",
       " 223.9083080362283,\n",
       " 300.5539044258302,\n",
       " 17.01439921303288,\n",
       " 586.7960682792517,\n",
       " 618.4171469296709,\n",
       " 251.50625061735965,\n",
       " 743.9343613268796,\n",
       " 175.2757856258349,\n",
       " 285.78657238636583,\n",
       " 671.9853255132901,\n",
       " 673.5939548760202,\n",
       " 569.1032458021788,\n",
       " 470.250971029266,\n",
       " 657.1126471411909,\n",
       " 551.8977816793304,\n",
       " 690.6870658189558,\n",
       " 436.60341319971906,\n",
       " 493.9310776535165,\n",
       " 747.583300563252,\n",
       " 372.0432051163273,\n",
       " 722.2211594926338,\n",
       " 466.88536361454993,\n",
       " 384.84145211891564,\n",
       " 26.45147737258918,\n",
       " 588.7985491726118,\n",
       " 552.2364846986205,\n",
       " 610.903608662883,\n",
       " 226.16494315414315,\n",
       " 340.28902601754106,\n",
       " 246.46593723190884,\n",
       " 511.9879663022353,\n",
       " 394.6524705243478,\n",
       " 251.80025962096414,\n",
       " 372.6813774100666,\n",
       " 729.5824461064149,\n",
       " 7.064791040054974,\n",
       " 519.9134760932137,\n",
       " 139.53117847796403,\n",
       " 500.27781146313896,\n",
       " 206.27370913711368,\n",
       " 720.0770200747063,\n",
       " 513.9765214825205,\n",
       " 573.4462230385681,\n",
       " 707.7235255527398,\n",
       " 713.289440545866,\n",
       " 359.06490442254824,\n",
       " 184.54244234003647,\n",
       " 360.16804415553173,\n",
       " 25.22543749756356,\n",
       " 704.1987300620508,\n",
       " 328.87467163848726,\n",
       " 430.595652480288,\n",
       " 499.58885419270814,\n",
       " 126.61843901448783,\n",
       " 100.73596843249332,\n",
       " 710.5604482165268,\n",
       " 618.2798422374083,\n",
       " 330.23728441420013,\n",
       " 570.0845934526378,\n",
       " 240.9693476558622,\n",
       " 279.7331515777568,\n",
       " 102.67400202008648,\n",
       " 721.8320460911278,\n",
       " 461.070791993021,\n",
       " 131.92382980457907,\n",
       " 464.4537882570567,\n",
       " 635.2200867791341,\n",
       " 110.47488118563781,\n",
       " 638.9589444539142,\n",
       " 450.8239884777349,\n",
       " 16.701700877850556,\n",
       " 151.60458023984768,\n",
       " 187.72731589131004,\n",
       " 449.27548512908055,\n",
       " 24.23276233963173,\n",
       " 98.39617340621048]"
      ]
     },
     "execution_count": 26,
     "metadata": {},
     "output_type": "execute_result"
    }
   ],
   "source": [
    "widget.x"
   ]
  },
  {
   "cell_type": "code",
   "execution_count": 59,
   "id": "debb6bfa-5c92-46f4-9924-856f3023b322",
   "metadata": {},
   "outputs": [],
   "source": [
    "widget.send({ \"type\" : \"msg:sync_node_coordinates\"})\n",
    "# widget._x"
   ]
  },
  {
   "cell_type": "code",
   "execution_count": 35,
   "id": "d37531e8-237e-45ba-8aa8-b27f5df1bfd8",
   "metadata": {},
   "outputs": [
    {
     "name": "stdout",
     "output_type": "stream",
     "text": [
      "[]\n",
      "[]\n"
     ]
    }
   ],
   "source": [
    "\n",
    "print(widget._x)\n",
    "widget.send({ \"type\" : \"msg:sync_node_coordinates\"})\n",
    "print(widget._x)"
   ]
  },
  {
   "cell_type": "code",
   "execution_count": null,
   "id": "fd80e929-2d3d-417f-b5b4-29ed55f0c878",
   "metadata": {},
   "outputs": [],
   "source": []
  },
  {
   "cell_type": "code",
   "execution_count": 17,
   "id": "e35937e1-36b7-49fb-9c41-9e3f721ffbef",
   "metadata": {},
   "outputs": [
    {
     "name": "stderr",
     "output_type": "stream",
     "text": [
      "/var/folders/0l/b3dbb2_d2bb4y3wbbfk0wt_80000gn/T/ipykernel_16472/4165577115.py:2: RuntimeWarning: coroutine 'Widget.x' was never awaited\n",
      "  await asyncio.gather(widget.x())\n",
      "RuntimeWarning: Enable tracemalloc to get the object allocation traceback\n"
     ]
    },
    {
     "ename": "TypeError",
     "evalue": "'coroutine' object is not callable",
     "output_type": "error",
     "traceback": [
      "\u001b[0;31m---------------------------------------------------------------------------\u001b[0m",
      "\u001b[0;31mTypeError\u001b[0m                                 Traceback (most recent call last)",
      "Cell \u001b[0;32mIn[17], line 2\u001b[0m\n\u001b[1;32m      1\u001b[0m \u001b[38;5;28;01mimport\u001b[39;00m\u001b[38;5;250m \u001b[39m\u001b[38;5;21;01masyncio\u001b[39;00m\n\u001b[0;32m----> 2\u001b[0m \u001b[38;5;28;01mawait\u001b[39;00m asyncio\u001b[38;5;241m.\u001b[39mgather(widget\u001b[38;5;241m.\u001b[39mx())\n",
      "\u001b[0;31mTypeError\u001b[0m: 'coroutine' object is not callable"
     ]
    }
   ],
   "source": [
    "import asyncio\n",
    "await asyncio.gather(widget.x())"
   ]
  },
  {
   "cell_type": "code",
   "execution_count": 6,
   "id": "3b55fcf4-eb4e-458a-9223-83404d3bf0d4",
   "metadata": {},
   "outputs": [
    {
     "name": "stdout",
     "output_type": "stream",
     "text": [
      "None\n"
     ]
    }
   ],
   "source": [
    "wut = widget.send({ \"type\" : \"msg:sync_node_coordinates\"})\n",
    "print(wut)"
   ]
  },
  {
   "cell_type": "code",
   "execution_count": 17,
   "id": "f4b29ceb-60f4-46be-8b81-b488bee9776c",
   "metadata": {},
   "outputs": [],
   "source": [
    "widget.send({ \"type\" : \"msg:init_graph\"})"
   ]
  },
  {
   "cell_type": "code",
   "execution_count": null,
   "id": "1fa539b9-90bb-4595-9574-6c45db2ae91c",
   "metadata": {},
   "outputs": [],
   "source": []
  },
  {
   "cell_type": "code",
   "execution_count": 60,
   "id": "7883e3ff-df17-4988-a8b5-e2a2d2114e64",
   "metadata": {},
   "outputs": [],
   "source": [
    "widget.send({ \"type\" : \"msg:init_force\"})"
   ]
  },
  {
   "cell_type": "code",
   "execution_count": 61,
   "id": "ffffb361-db17-42f7-8f67-c3f1a3303906",
   "metadata": {},
   "outputs": [],
   "source": [
    "widget.send({ \"type\" : \"msg:center_graph\"})"
   ]
  },
  {
   "cell_type": "code",
   "execution_count": 5,
   "id": "3940c0f2",
   "metadata": {},
   "outputs": [],
   "source": [
    "widget.send({ \"type\" : \"msg:custom\", \"foo\":\"bar\" })"
   ]
  },
  {
   "cell_type": "code",
   "execution_count": null,
   "id": "5e11fa52",
   "metadata": {},
   "outputs": [],
   "source": [
    "# %% Embed statically -- this works!\n",
    "# import ipywidgets.embed\n",
    "# ipywidgets.embed.embed_minimal_html(\"forcegraph_embed.html\", views=[widget], drop_defaults=False)"
   ]
  }
 ],
 "metadata": {
  "kernelspec": {
   "display_name": "force",
   "language": "python",
   "name": "force"
  },
  "language_info": {
   "codemirror_mode": {
    "name": "ipython",
    "version": 3
   },
   "file_extension": ".py",
   "mimetype": "text/x-python",
   "name": "python",
   "nbconvert_exporter": "python",
   "pygments_lexer": "ipython3",
   "version": "3.10.0"
  }
 },
 "nbformat": 4,
 "nbformat_minor": 5
}
