{
 "cells": [
  {
   "cell_type": "code",
   "execution_count": 1,
   "id": "f55a35b5-8545-4f21-b0ea-b9bc50435b92",
   "metadata": {},
   "outputs": [
    {
     "name": "stdout",
     "output_type": "stream",
     "text": [
      "The autoreload extension is already loaded. To reload it, use:\n",
      "  %reload_ext autoreload\n",
      "env: ANYWIDGET_HMR=1\n"
     ]
    }
   ],
   "source": [
    "%load_ext autoreload\n",
    "%autoreload 2\n",
    "%env ANYWIDGET_HMR=1"
   ]
  },
  {
   "cell_type": "code",
   "execution_count": 6,
   "id": "3bbadfc8",
   "metadata": {},
   "outputs": [
    {
     "data": {
      "application/vnd.jupyter.widget-view+json": {
       "model_id": "9503be6fd5bf4011b749f777d61522ab",
       "version_major": 2,
       "version_minor": 1
      },
      "text/plain": [
       "Widget(x=[0, 1, 2], y=[0, 1, 2])"
      ]
     },
     "execution_count": 6,
     "metadata": {},
     "output_type": "execute_result"
    }
   ],
   "source": [
    "import json\n",
    "from pathlib import Path\n",
    "data = json.loads(Path(\"/Users/mpiekenbrock/Downloads/miserables.json\").read_text())\n",
    "\n",
    "import traitlets\n",
    "import anywidget\n",
    "class Widget(anywidget.AnyWidget):\n",
    "\t_esm = \"pixiplex/static/widget.js\"\n",
    "\t_css = \"pixiplex/static/widget.css\"\n",
    "\tvalue = traitlets.Int(0).tag(sync=True)\n",
    "\tx = traitlets.List([]).tag(sync=True)\n",
    "\ty = traitlets.List([]).tag(sync=True)\n",
    "\n",
    "\tdef __init__(self, x: list, y: list, width: int = 200, height: int = 200) -> None:\n",
    "\t\tsuper().__init__()\n",
    "\t\tself.x = x\n",
    "\t\tself.y = y\n",
    "\n",
    "\n",
    "widget = Widget([0,1,2], [0,1,2])\n",
    "widget\n",
    "\n"
   ]
  },
  {
   "cell_type": "code",
   "execution_count": null,
   "id": "3940c0f2",
   "metadata": {},
   "outputs": [],
   "source": []
  },
  {
   "cell_type": "code",
   "execution_count": null,
   "id": "5e11fa52",
   "metadata": {},
   "outputs": [],
   "source": [
    "# %% Embed statically -- this works!\n",
    "import ipywidgets.embed\n",
    "ipywidgets.embed.embed_minimal_html(\"forcegraph_embed.html\", views=[widget], drop_defaults=False)"
   ]
  }
 ],
 "metadata": {
  "kernelspec": {
   "display_name": "force",
   "language": "python",
   "name": "python3"
  },
  "language_info": {
   "codemirror_mode": {
    "name": "ipython",
    "version": 3
   },
   "file_extension": ".py",
   "mimetype": "text/x-python",
   "name": "python",
   "nbconvert_exporter": "python",
   "pygments_lexer": "ipython3",
   "version": "3.10.0"
  }
 },
 "nbformat": 4,
 "nbformat_minor": 5
}
