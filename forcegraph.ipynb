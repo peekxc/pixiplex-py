{
 "cells": [
  {
   "cell_type": "code",
   "execution_count": 3,
   "id": "f55a35b5-8545-4f21-b0ea-b9bc50435b92",
   "metadata": {
    "scrolled": true
   },
   "outputs": [
    {
     "name": "stdout",
     "output_type": "stream",
     "text": [
      "The autoreload extension is already loaded. To reload it, use:\n",
      "  %reload_ext autoreload\n",
      "env: ANYWIDGET_HMR=1\n"
     ]
    }
   ],
   "source": [
    "%load_ext autoreload\n",
    "%autoreload 2\n",
    "%env ANYWIDGET_HMR=1"
   ]
  },
  {
   "cell_type": "code",
   "execution_count": 4,
   "id": "3bbadfc8",
   "metadata": {},
   "outputs": [],
   "source": [
    "import numpy as np\n",
    "from numpy.typing import ArrayLike\n",
    "import json\n",
    "from traitlets import observe\n",
    "from pathlib import Path\n",
    "data = json.loads(Path(\"/Users/mpiekenbrock/Downloads/miserables.json\").read_text())\n",
    "\n",
    "node_ids = np.unique([n[\"id\"] for n in data[\"nodes\"]])\n",
    "src_ids = np.array([e[\"source\"] for e in data[\"links\"]])\n",
    "tgt_ids = np.array([e[\"target\"] for e in data[\"links\"]])\n",
    "\n",
    "src_ids = np.searchsorted(node_ids, src_ids)\n",
    "tgt_ids = np.searchsorted(node_ids, tgt_ids)\n",
    "node_ids = np.searchsorted(node_ids, node_ids)\n",
    "\n",
    "edgelist = np.c_[src_ids, tgt_ids]"
   ]
  },
  {
   "cell_type": "code",
   "execution_count": 10,
   "id": "eeb1e9a4-2e58-4681-b080-932dfeee309e",
   "metadata": {},
   "outputs": [],
   "source": [
    "from pixiplex import Pixinet\n",
    "p = Pixinet(node_ids, edgelist, 400, 400) # indeed, init is called after the Python initialization"
   ]
  },
  {
   "cell_type": "code",
   "execution_count": 11,
   "id": "560c051f-c038-4476-87b6-c5b08752dbe4",
   "metadata": {},
   "outputs": [
    {
     "data": {
      "application/vnd.jupyter.widget-view+json": {
       "model_id": "e47c352b6fae42de9ea04431253a1e76",
       "version_major": 2,
       "version_minor": 1
      },
      "text/plain": [
       "Pixinet(height=400, node_ids=[0, 1, 2, 3, 4, 5, 6, 7, 8, 9, 10, 11, 12, 13, 14, 15, 16, 17, 18, 19, 20, 21, 22…"
      ]
     },
     "execution_count": 11,
     "metadata": {},
     "output_type": "execute_result"
    }
   ],
   "source": [
    "p"
   ]
  },
  {
   "cell_type": "code",
   "execution_count": 24,
   "id": "fa8cae95-1be5-481e-bfa1-de8660191483",
   "metadata": {
    "scrolled": true
   },
   "outputs": [],
   "source": [
    "# widget.node_color = [\"0xff0000\"]*len(widget.node_ids)\n",
    "widget.node_color = [\"0xff0000\" if i % 2 == 0 else \"0x00ff00\" for i in widget.node_ids]"
   ]
  },
  {
   "cell_type": "code",
   "execution_count": 59,
   "id": "debb6bfa-5c92-46f4-9924-856f3023b322",
   "metadata": {},
   "outputs": [],
   "source": [
    "# widget.send({ \"type\" : \"msg:sync_node_coordinates\"})\n",
    "# widget._x"
   ]
  },
  {
   "cell_type": "code",
   "execution_count": 60,
   "id": "7883e3ff-df17-4988-a8b5-e2a2d2114e64",
   "metadata": {},
   "outputs": [],
   "source": [
    "widget.send({ \"type\" : \"msg:init_force\"})"
   ]
  },
  {
   "cell_type": "code",
   "execution_count": 61,
   "id": "ffffb361-db17-42f7-8f67-c3f1a3303906",
   "metadata": {},
   "outputs": [],
   "source": [
    "widget.send({ \"type\" : \"msg:center_graph\"})"
   ]
  },
  {
   "cell_type": "code",
   "execution_count": 5,
   "id": "3940c0f2",
   "metadata": {},
   "outputs": [],
   "source": [
    "widget.send({ \"type\" : \"msg:custom\", \"foo\":\"bar\" })"
   ]
  },
  {
   "cell_type": "code",
   "execution_count": null,
   "id": "5e11fa52",
   "metadata": {},
   "outputs": [],
   "source": [
    "# %% Embed statically -- this works!\n",
    "# import ipywidgets.embed\n",
    "# ipywidgets.embed.embed_minimal_html(\"forcegraph_embed.html\", views=[widget], drop_defaults=False)"
   ]
  }
 ],
 "metadata": {
  "kernelspec": {
   "display_name": "force",
   "language": "python",
   "name": "force"
  },
  "language_info": {
   "codemirror_mode": {
    "name": "ipython",
    "version": 3
   },
   "file_extension": ".py",
   "mimetype": "text/x-python",
   "name": "python",
   "nbconvert_exporter": "python",
   "pygments_lexer": "ipython3",
   "version": "3.10.0"
  }
 },
 "nbformat": 4,
 "nbformat_minor": 5
}
