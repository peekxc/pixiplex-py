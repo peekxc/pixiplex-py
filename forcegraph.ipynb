{
 "cells": [
  {
   "cell_type": "code",
   "execution_count": 6,
   "id": "f55a35b5-8545-4f21-b0ea-b9bc50435b92",
   "metadata": {
    "scrolled": true
   },
   "outputs": [
    {
     "name": "stdout",
     "output_type": "stream",
     "text": [
      "The autoreload extension is already loaded. To reload it, use:\n",
      "  %reload_ext autoreload\n",
      "env: ANYWIDGET_HMR=1\n"
     ]
    }
   ],
   "source": [
    "%load_ext autoreload\n",
    "%autoreload 2\n",
    "%env ANYWIDGET_HMR=1"
   ]
  },
  {
   "cell_type": "code",
   "execution_count": 7,
   "id": "3bbadfc8",
   "metadata": {},
   "outputs": [
    {
     "data": {
      "application/vnd.jupyter.widget-view+json": {
       "model_id": "16135bdfe6554a52a23d77b677807f48",
       "version_major": 2,
       "version_minor": 1
      },
      "text/plain": [
       "Widget(height=400, node_ids=[np.int64(0), np.int64(1), np.int64(2), np.int64(3), np.int64(4), np.int64(5), np.…"
      ]
     },
     "execution_count": 7,
     "metadata": {},
     "output_type": "execute_result"
    }
   ],
   "source": [
    "import numpy as np\n",
    "import json\n",
    "from pathlib import Path\n",
    "data = json.loads(Path(\"/Users/mpiekenbrock/Downloads/miserables.json\").read_text())\n",
    "\n",
    "node_ids = np.unique([n[\"id\"] for n in data[\"nodes\"]])\n",
    "src_ids = np.array([e[\"source\"] for e in data[\"links\"]])\n",
    "tgt_ids = np.array([e[\"target\"] for e in data[\"links\"]])\n",
    "\n",
    "src_ids = np.searchsorted(node_ids, src_ids)\n",
    "tgt_ids = np.searchsorted(node_ids, tgt_ids)\n",
    "node_ids = np.searchsorted(node_ids, node_ids)\n",
    "\n",
    "edgelist = np.c_[src_ids, tgt_ids]\n",
    "\n",
    "import traitlets\n",
    "import anywidget\n",
    "class Widget(anywidget.AnyWidget):\n",
    "    _esm = \"pixiplex/static/widget.js\"\n",
    "    _css = \"pixiplex/static/widget.css\"\n",
    "    \n",
    "    width = traitlets.Int(250).tag(sync=True)\n",
    "    height = traitlets.Int(250).tag(sync=True)\n",
    "    \n",
    "    node_ids = traitlets.List([]).tag(sync=True)\n",
    "    src_ids = traitlets.List([]).tag(sync=True)\n",
    "    tgt_ids = traitlets.List([]).tag(sync=True)\n",
    "    \n",
    "    def __init__(self, node_ids: np.ndarray, edgelist: np.ndarray, width: int = 250, height: int = 250) -> None:\n",
    "        super().__init__()\n",
    "        self.width = width \n",
    "        self.height = height\n",
    "        self.node_ids = list(node_ids)\n",
    "        self.src_ids = list(edgelist[:,0])\n",
    "        self.tgt_ids = list(edgelist[:,1])\n",
    "    \n",
    "\n",
    "widget = Widget(node_ids, edgelist, 400, 400)\n",
    "widget"
   ]
  },
  {
   "cell_type": "code",
   "execution_count": 3,
   "id": "f4b29ceb-60f4-46be-8b81-b488bee9776c",
   "metadata": {},
   "outputs": [],
   "source": [
    "widget.send({ \"type\" : \"msg:init_graph\"})"
   ]
  },
  {
   "cell_type": "code",
   "execution_count": 4,
   "id": "7883e3ff-df17-4988-a8b5-e2a2d2114e64",
   "metadata": {},
   "outputs": [],
   "source": [
    "widget.send({ \"type\" : \"msg:init_force\"})"
   ]
  },
  {
   "cell_type": "code",
   "execution_count": 5,
   "id": "3940c0f2",
   "metadata": {},
   "outputs": [],
   "source": [
    "widget.send({ \"type\" : \"msg:custom\", \"foo\":\"bar\" })"
   ]
  },
  {
   "cell_type": "code",
   "execution_count": null,
   "id": "5e11fa52",
   "metadata": {},
   "outputs": [],
   "source": [
    "# %% Embed statically -- this works!\n",
    "# import ipywidgets.embed\n",
    "# ipywidgets.embed.embed_minimal_html(\"forcegraph_embed.html\", views=[widget], drop_defaults=False)"
   ]
  }
 ],
 "metadata": {
  "kernelspec": {
   "display_name": "blog",
   "language": "python",
   "name": "blog"
  },
  "language_info": {
   "codemirror_mode": {
    "name": "ipython",
    "version": 3
   },
   "file_extension": ".py",
   "mimetype": "text/x-python",
   "name": "python",
   "nbconvert_exporter": "python",
   "pygments_lexer": "ipython3",
   "version": "3.12.4"
  }
 },
 "nbformat": 4,
 "nbformat_minor": 5
}
