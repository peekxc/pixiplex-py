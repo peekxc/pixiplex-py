{
 "cells": [
  {
   "cell_type": "code",
   "execution_count": 68,
   "id": "f55a35b5-8545-4f21-b0ea-b9bc50435b92",
   "metadata": {
    "scrolled": true
   },
   "outputs": [
    {
     "name": "stdout",
     "output_type": "stream",
     "text": [
      "The autoreload extension is already loaded. To reload it, use:\n",
      "  %reload_ext autoreload\n",
      "env: ANYWIDGET_HMR=1\n"
     ]
    }
   ],
   "source": [
    "%load_ext autoreload\n",
    "%autoreload 2\n",
    "%env ANYWIDGET_HMR=1"
   ]
  },
  {
   "cell_type": "code",
   "execution_count": 82,
   "id": "3bbadfc8",
   "metadata": {},
   "outputs": [
    {
     "data": {
      "application/vnd.jupyter.widget-view+json": {
       "model_id": "d2a4b92ece6848328818d3ed09944070",
       "version_major": 2,
       "version_minor": 1
      },
      "text/plain": [
       "Widget(height=450, node_ids=[0, 1, 2, 3, 4, 5, 6, 7, 8, 9, 10, 11, 12, 13, 14, 15, 16, 17, 18, 19, 20, 21, 22,…"
      ]
     },
     "execution_count": 82,
     "metadata": {},
     "output_type": "execute_result"
    }
   ],
   "source": [
    "import numpy as np\n",
    "from numpy.typing import ArrayLike\n",
    "import json\n",
    "from traitlets import observe\n",
    "from pathlib import Path\n",
    "data = json.loads(Path(\"/Users/mpiekenbrock/Downloads/miserables.json\").read_text())\n",
    "\n",
    "node_ids = np.unique([n[\"id\"] for n in data[\"nodes\"]])\n",
    "src_ids = np.array([e[\"source\"] for e in data[\"links\"]])\n",
    "tgt_ids = np.array([e[\"target\"] for e in data[\"links\"]])\n",
    "\n",
    "src_ids = np.searchsorted(node_ids, src_ids)\n",
    "tgt_ids = np.searchsorted(node_ids, tgt_ids)\n",
    "node_ids = np.searchsorted(node_ids, node_ids)\n",
    "\n",
    "edgelist = np.c_[src_ids, tgt_ids]\n",
    "\n",
    "import traitlets\n",
    "import anywidget\n",
    "class Widget(anywidget.AnyWidget):\n",
    "    _esm = \"pixiplex/static/widget.js\"\n",
    "    _css = \"pixiplex/static/widget.css\"\n",
    "    \n",
    "    width = traitlets.Int(250).tag(sync=True)\n",
    "    height = traitlets.Int(250).tag(sync=True)\n",
    "    \n",
    "    node_ids = traitlets.List(trait=traitlets.CInt).tag(sync=True)\n",
    "    src_ids = traitlets.List(trait=traitlets.CInt).tag(sync=True)\n",
    "    tgt_ids = traitlets.List(trait=traitlets.CInt).tag(sync=True)\n",
    "\n",
    "    _x = traitlets.List(trait=traitlets.Float).tag(sync=True)\n",
    "    _y = traitlets.List(trait=traitlets.Float).tag(sync=True)\n",
    "\n",
    "    node_color = traitlets.List(trait=traitlets.Unicode).tag(sync=True)\n",
    "    \n",
    "    def __init__(self, node_ids: ArrayLike, edgelist: ArrayLike, width: int = 250, height: int = 250) -> None:\n",
    "        super().__init__()\n",
    "        self.width = width \n",
    "        self.height = height\n",
    "        self.node_ids = list(node_ids)\n",
    "        self.src_ids = list(edgelist[:,0])\n",
    "        self.tgt_ids = list(edgelist[:,1])\n",
    "\n",
    "    @property\n",
    "    def x(self):\n",
    "        self.send({ \"type\" : \"msg:sync_node_coordinates\"})\n",
    "        return self._x\n",
    "\n",
    "    @x.setter\n",
    "    def x(self, value: ArrayLike):\n",
    "        value = np.atleast_1d(value).astype(np.float32).ravel();\n",
    "        assert len(value) == len(self.node_ids)\n",
    "        self._x = value\n",
    "\n",
    "    def center(self, fit_zoom: bool = False, x: float = 0.0, y: float = 0.0):\n",
    "        msg = { \"type\" : \"msg:center\", \"fit\": False }\n",
    "        msg['x'] = x\n",
    "        msg['y'] = y\n",
    "        self.send(msg)\n",
    "\n",
    "widget = Widget(node_ids, edgelist, width=750, height=450)\n",
    "widget"
   ]
  },
  {
   "cell_type": "code",
   "execution_count": 81,
   "id": "560c051f-c038-4476-87b6-c5b08752dbe4",
   "metadata": {},
   "outputs": [],
   "source": [
    "widget.center(False, (750*3) / 2, (450*3) / 2)"
   ]
  },
  {
   "cell_type": "code",
   "execution_count": 53,
   "id": "fa8cae95-1be5-481e-bfa1-de8660191483",
   "metadata": {},
   "outputs": [
    {
     "ename": "AttributeError",
     "evalue": "module 'traitlets' has no attribute 'String'",
     "output_type": "error",
     "traceback": [
      "\u001b[0;31m---------------------------------------------------------------------------\u001b[0m",
      "\u001b[0;31mAttributeError\u001b[0m                            Traceback (most recent call last)",
      "Cell \u001b[0;32mIn[53], line 1\u001b[0m\n\u001b[0;32m----> 1\u001b[0m \u001b[43mtraitlets\u001b[49m\u001b[38;5;241;43m.\u001b[39;49m\u001b[43mString\u001b[49m\n",
      "\u001b[0;31mAttributeError\u001b[0m: module 'traitlets' has no attribute 'String'"
     ]
    }
   ],
   "source": [
    "traitlets.Unicode"
   ]
  },
  {
   "cell_type": "code",
   "execution_count": 59,
   "id": "debb6bfa-5c92-46f4-9924-856f3023b322",
   "metadata": {},
   "outputs": [],
   "source": [
    "widget.send({ \"type\" : \"msg:sync_node_coordinates\"})\n",
    "# widget._x"
   ]
  },
  {
   "cell_type": "code",
   "execution_count": 35,
   "id": "d37531e8-237e-45ba-8aa8-b27f5df1bfd8",
   "metadata": {},
   "outputs": [
    {
     "name": "stdout",
     "output_type": "stream",
     "text": [
      "[]\n",
      "[]\n"
     ]
    }
   ],
   "source": [
    "\n",
    "print(widget._x)\n",
    "widget.send({ \"type\" : \"msg:sync_node_coordinates\"})\n",
    "print(widget._x)"
   ]
  },
  {
   "cell_type": "code",
   "execution_count": null,
   "id": "fd80e929-2d3d-417f-b5b4-29ed55f0c878",
   "metadata": {},
   "outputs": [],
   "source": []
  },
  {
   "cell_type": "code",
   "execution_count": 17,
   "id": "e35937e1-36b7-49fb-9c41-9e3f721ffbef",
   "metadata": {},
   "outputs": [
    {
     "name": "stderr",
     "output_type": "stream",
     "text": [
      "/var/folders/0l/b3dbb2_d2bb4y3wbbfk0wt_80000gn/T/ipykernel_16472/4165577115.py:2: RuntimeWarning: coroutine 'Widget.x' was never awaited\n",
      "  await asyncio.gather(widget.x())\n",
      "RuntimeWarning: Enable tracemalloc to get the object allocation traceback\n"
     ]
    },
    {
     "ename": "TypeError",
     "evalue": "'coroutine' object is not callable",
     "output_type": "error",
     "traceback": [
      "\u001b[0;31m---------------------------------------------------------------------------\u001b[0m",
      "\u001b[0;31mTypeError\u001b[0m                                 Traceback (most recent call last)",
      "Cell \u001b[0;32mIn[17], line 2\u001b[0m\n\u001b[1;32m      1\u001b[0m \u001b[38;5;28;01mimport\u001b[39;00m\u001b[38;5;250m \u001b[39m\u001b[38;5;21;01masyncio\u001b[39;00m\n\u001b[0;32m----> 2\u001b[0m \u001b[38;5;28;01mawait\u001b[39;00m asyncio\u001b[38;5;241m.\u001b[39mgather(widget\u001b[38;5;241m.\u001b[39mx())\n",
      "\u001b[0;31mTypeError\u001b[0m: 'coroutine' object is not callable"
     ]
    }
   ],
   "source": [
    "import asyncio\n",
    "await asyncio.gather(widget.x())"
   ]
  },
  {
   "cell_type": "code",
   "execution_count": 6,
   "id": "3b55fcf4-eb4e-458a-9223-83404d3bf0d4",
   "metadata": {},
   "outputs": [
    {
     "name": "stdout",
     "output_type": "stream",
     "text": [
      "None\n"
     ]
    }
   ],
   "source": [
    "wut = widget.send({ \"type\" : \"msg:sync_node_coordinates\"})\n",
    "print(wut)"
   ]
  },
  {
   "cell_type": "code",
   "execution_count": 17,
   "id": "f4b29ceb-60f4-46be-8b81-b488bee9776c",
   "metadata": {},
   "outputs": [],
   "source": [
    "widget.send({ \"type\" : \"msg:init_graph\"})"
   ]
  },
  {
   "cell_type": "code",
   "execution_count": null,
   "id": "1fa539b9-90bb-4595-9574-6c45db2ae91c",
   "metadata": {},
   "outputs": [],
   "source": []
  },
  {
   "cell_type": "code",
   "execution_count": 60,
   "id": "7883e3ff-df17-4988-a8b5-e2a2d2114e64",
   "metadata": {},
   "outputs": [],
   "source": [
    "widget.send({ \"type\" : \"msg:init_force\"})"
   ]
  },
  {
   "cell_type": "code",
   "execution_count": 61,
   "id": "ffffb361-db17-42f7-8f67-c3f1a3303906",
   "metadata": {},
   "outputs": [],
   "source": [
    "widget.send({ \"type\" : \"msg:center_graph\"})"
   ]
  },
  {
   "cell_type": "code",
   "execution_count": 5,
   "id": "3940c0f2",
   "metadata": {},
   "outputs": [],
   "source": [
    "widget.send({ \"type\" : \"msg:custom\", \"foo\":\"bar\" })"
   ]
  },
  {
   "cell_type": "code",
   "execution_count": null,
   "id": "5e11fa52",
   "metadata": {},
   "outputs": [],
   "source": [
    "# %% Embed statically -- this works!\n",
    "# import ipywidgets.embed\n",
    "# ipywidgets.embed.embed_minimal_html(\"forcegraph_embed.html\", views=[widget], drop_defaults=False)"
   ]
  }
 ],
 "metadata": {
  "kernelspec": {
   "display_name": "force",
   "language": "python",
   "name": "force"
  },
  "language_info": {
   "codemirror_mode": {
    "name": "ipython",
    "version": 3
   },
   "file_extension": ".py",
   "mimetype": "text/x-python",
   "name": "python",
   "nbconvert_exporter": "python",
   "pygments_lexer": "ipython3",
   "version": "3.10.0"
  }
 },
 "nbformat": 4,
 "nbformat_minor": 5
}
